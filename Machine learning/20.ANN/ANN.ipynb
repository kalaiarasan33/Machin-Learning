{
 "cells": [
  {
   "cell_type": "code",
   "execution_count": 1,
   "metadata": {},
   "outputs": [],
   "source": [
    "import pandas as pd"
   ]
  },
  {
   "cell_type": "code",
   "execution_count": 2,
   "metadata": {},
   "outputs": [],
   "source": [
    "ds=pd.read_excel(\"titanic3.xls\")"
   ]
  },
  {
   "cell_type": "code",
   "execution_count": 3,
   "metadata": {},
   "outputs": [
    {
     "data": {
      "text/html": [
       "<div>\n",
       "<style scoped>\n",
       "    .dataframe tbody tr th:only-of-type {\n",
       "        vertical-align: middle;\n",
       "    }\n",
       "\n",
       "    .dataframe tbody tr th {\n",
       "        vertical-align: top;\n",
       "    }\n",
       "\n",
       "    .dataframe thead th {\n",
       "        text-align: right;\n",
       "    }\n",
       "</style>\n",
       "<table border=\"1\" class=\"dataframe\">\n",
       "  <thead>\n",
       "    <tr style=\"text-align: right;\">\n",
       "      <th></th>\n",
       "      <th>pclass</th>\n",
       "      <th>survived</th>\n",
       "      <th>age</th>\n",
       "      <th>sibsp</th>\n",
       "      <th>parch</th>\n",
       "      <th>fare</th>\n",
       "      <th>body</th>\n",
       "    </tr>\n",
       "  </thead>\n",
       "  <tbody>\n",
       "    <tr>\n",
       "      <th>count</th>\n",
       "      <td>1309.000000</td>\n",
       "      <td>1309.000000</td>\n",
       "      <td>1046.000000</td>\n",
       "      <td>1309.000000</td>\n",
       "      <td>1309.000000</td>\n",
       "      <td>1308.000000</td>\n",
       "      <td>121.000000</td>\n",
       "    </tr>\n",
       "    <tr>\n",
       "      <th>mean</th>\n",
       "      <td>2.294882</td>\n",
       "      <td>0.381971</td>\n",
       "      <td>29.881135</td>\n",
       "      <td>0.498854</td>\n",
       "      <td>0.385027</td>\n",
       "      <td>33.295479</td>\n",
       "      <td>160.809917</td>\n",
       "    </tr>\n",
       "    <tr>\n",
       "      <th>std</th>\n",
       "      <td>0.837836</td>\n",
       "      <td>0.486055</td>\n",
       "      <td>14.413500</td>\n",
       "      <td>1.041658</td>\n",
       "      <td>0.865560</td>\n",
       "      <td>51.758668</td>\n",
       "      <td>97.696922</td>\n",
       "    </tr>\n",
       "    <tr>\n",
       "      <th>min</th>\n",
       "      <td>1.000000</td>\n",
       "      <td>0.000000</td>\n",
       "      <td>0.166700</td>\n",
       "      <td>0.000000</td>\n",
       "      <td>0.000000</td>\n",
       "      <td>0.000000</td>\n",
       "      <td>1.000000</td>\n",
       "    </tr>\n",
       "    <tr>\n",
       "      <th>25%</th>\n",
       "      <td>2.000000</td>\n",
       "      <td>0.000000</td>\n",
       "      <td>21.000000</td>\n",
       "      <td>0.000000</td>\n",
       "      <td>0.000000</td>\n",
       "      <td>7.895800</td>\n",
       "      <td>72.000000</td>\n",
       "    </tr>\n",
       "    <tr>\n",
       "      <th>50%</th>\n",
       "      <td>3.000000</td>\n",
       "      <td>0.000000</td>\n",
       "      <td>28.000000</td>\n",
       "      <td>0.000000</td>\n",
       "      <td>0.000000</td>\n",
       "      <td>14.454200</td>\n",
       "      <td>155.000000</td>\n",
       "    </tr>\n",
       "    <tr>\n",
       "      <th>75%</th>\n",
       "      <td>3.000000</td>\n",
       "      <td>1.000000</td>\n",
       "      <td>39.000000</td>\n",
       "      <td>1.000000</td>\n",
       "      <td>0.000000</td>\n",
       "      <td>31.275000</td>\n",
       "      <td>256.000000</td>\n",
       "    </tr>\n",
       "    <tr>\n",
       "      <th>max</th>\n",
       "      <td>3.000000</td>\n",
       "      <td>1.000000</td>\n",
       "      <td>80.000000</td>\n",
       "      <td>8.000000</td>\n",
       "      <td>9.000000</td>\n",
       "      <td>512.329200</td>\n",
       "      <td>328.000000</td>\n",
       "    </tr>\n",
       "  </tbody>\n",
       "</table>\n",
       "</div>"
      ],
      "text/plain": [
       "            pclass     survived          age        sibsp        parch  \\\n",
       "count  1309.000000  1309.000000  1046.000000  1309.000000  1309.000000   \n",
       "mean      2.294882     0.381971    29.881135     0.498854     0.385027   \n",
       "std       0.837836     0.486055    14.413500     1.041658     0.865560   \n",
       "min       1.000000     0.000000     0.166700     0.000000     0.000000   \n",
       "25%       2.000000     0.000000    21.000000     0.000000     0.000000   \n",
       "50%       3.000000     0.000000    28.000000     0.000000     0.000000   \n",
       "75%       3.000000     1.000000    39.000000     1.000000     0.000000   \n",
       "max       3.000000     1.000000    80.000000     8.000000     9.000000   \n",
       "\n",
       "              fare        body  \n",
       "count  1308.000000  121.000000  \n",
       "mean     33.295479  160.809917  \n",
       "std      51.758668   97.696922  \n",
       "min       0.000000    1.000000  \n",
       "25%       7.895800   72.000000  \n",
       "50%      14.454200  155.000000  \n",
       "75%      31.275000  256.000000  \n",
       "max     512.329200  328.000000  "
      ]
     },
     "execution_count": 3,
     "metadata": {},
     "output_type": "execute_result"
    }
   ],
   "source": [
    "ds.describe(include=\"number\")"
   ]
  },
  {
   "cell_type": "code",
   "execution_count": 4,
   "metadata": {},
   "outputs": [
    {
     "data": {
      "text/plain": [
       "pclass          3\n",
       "survived        2\n",
       "name         1307\n",
       "sex             2\n",
       "age            98\n",
       "sibsp           7\n",
       "parch           8\n",
       "ticket        939\n",
       "fare          281\n",
       "cabin         186\n",
       "embarked        3\n",
       "boat           28\n",
       "body          121\n",
       "home.dest     369\n",
       "dtype: int64"
      ]
     },
     "execution_count": 4,
     "metadata": {},
     "output_type": "execute_result"
    }
   ],
   "source": [
    "ds.nunique()"
   ]
  },
  {
   "cell_type": "code",
   "execution_count": 5,
   "metadata": {},
   "outputs": [
    {
     "data": {
      "text/html": [
       "<div>\n",
       "<style scoped>\n",
       "    .dataframe tbody tr th:only-of-type {\n",
       "        vertical-align: middle;\n",
       "    }\n",
       "\n",
       "    .dataframe tbody tr th {\n",
       "        vertical-align: top;\n",
       "    }\n",
       "\n",
       "    .dataframe thead th {\n",
       "        text-align: right;\n",
       "    }\n",
       "</style>\n",
       "<table border=\"1\" class=\"dataframe\">\n",
       "  <thead>\n",
       "    <tr style=\"text-align: right;\">\n",
       "      <th></th>\n",
       "      <th>pclass</th>\n",
       "      <th>survived</th>\n",
       "      <th>name</th>\n",
       "      <th>sex</th>\n",
       "      <th>age</th>\n",
       "      <th>sibsp</th>\n",
       "      <th>parch</th>\n",
       "      <th>ticket</th>\n",
       "      <th>fare</th>\n",
       "      <th>cabin</th>\n",
       "      <th>embarked</th>\n",
       "      <th>boat</th>\n",
       "      <th>body</th>\n",
       "      <th>home.dest</th>\n",
       "    </tr>\n",
       "  </thead>\n",
       "  <tbody>\n",
       "    <tr>\n",
       "      <th>0</th>\n",
       "      <td>1</td>\n",
       "      <td>1</td>\n",
       "      <td>Allen, Miss. Elisabeth Walton</td>\n",
       "      <td>female</td>\n",
       "      <td>29.0000</td>\n",
       "      <td>0</td>\n",
       "      <td>0</td>\n",
       "      <td>24160</td>\n",
       "      <td>211.3375</td>\n",
       "      <td>B5</td>\n",
       "      <td>S</td>\n",
       "      <td>2</td>\n",
       "      <td>NaN</td>\n",
       "      <td>St Louis, MO</td>\n",
       "    </tr>\n",
       "    <tr>\n",
       "      <th>1</th>\n",
       "      <td>1</td>\n",
       "      <td>1</td>\n",
       "      <td>Allison, Master. Hudson Trevor</td>\n",
       "      <td>male</td>\n",
       "      <td>0.9167</td>\n",
       "      <td>1</td>\n",
       "      <td>2</td>\n",
       "      <td>113781</td>\n",
       "      <td>151.5500</td>\n",
       "      <td>C22 C26</td>\n",
       "      <td>S</td>\n",
       "      <td>11</td>\n",
       "      <td>NaN</td>\n",
       "      <td>Montreal, PQ / Chesterville, ON</td>\n",
       "    </tr>\n",
       "  </tbody>\n",
       "</table>\n",
       "</div>"
      ],
      "text/plain": [
       "   pclass  survived                            name     sex      age  sibsp  \\\n",
       "0       1         1   Allen, Miss. Elisabeth Walton  female  29.0000      0   \n",
       "1       1         1  Allison, Master. Hudson Trevor    male   0.9167      1   \n",
       "\n",
       "   parch  ticket      fare    cabin embarked boat  body  \\\n",
       "0      0   24160  211.3375       B5        S    2   NaN   \n",
       "1      2  113781  151.5500  C22 C26        S   11   NaN   \n",
       "\n",
       "                         home.dest  \n",
       "0                     St Louis, MO  \n",
       "1  Montreal, PQ / Chesterville, ON  "
      ]
     },
     "execution_count": 5,
     "metadata": {},
     "output_type": "execute_result"
    }
   ],
   "source": [
    "ds.head(2)"
   ]
  },
  {
   "cell_type": "code",
   "execution_count": 6,
   "metadata": {},
   "outputs": [],
   "source": [
    "#gender is the categorical data"
   ]
  },
  {
   "cell_type": "code",
   "execution_count": 7,
   "metadata": {},
   "outputs": [],
   "source": [
    "from sklearn.preprocessing import LabelEncoder"
   ]
  },
  {
   "cell_type": "code",
   "execution_count": 8,
   "metadata": {},
   "outputs": [],
   "source": [
    "le=LabelEncoder()"
   ]
  },
  {
   "cell_type": "code",
   "execution_count": 9,
   "metadata": {},
   "outputs": [],
   "source": [
    "ds[\"sex\"]=le.fit_transform(ds[\"sex\"])"
   ]
  },
  {
   "cell_type": "code",
   "execution_count": 10,
   "metadata": {},
   "outputs": [
    {
     "data": {
      "text/html": [
       "<div>\n",
       "<style scoped>\n",
       "    .dataframe tbody tr th:only-of-type {\n",
       "        vertical-align: middle;\n",
       "    }\n",
       "\n",
       "    .dataframe tbody tr th {\n",
       "        vertical-align: top;\n",
       "    }\n",
       "\n",
       "    .dataframe thead th {\n",
       "        text-align: right;\n",
       "    }\n",
       "</style>\n",
       "<table border=\"1\" class=\"dataframe\">\n",
       "  <thead>\n",
       "    <tr style=\"text-align: right;\">\n",
       "      <th></th>\n",
       "      <th>pclass</th>\n",
       "      <th>survived</th>\n",
       "      <th>name</th>\n",
       "      <th>sex</th>\n",
       "      <th>age</th>\n",
       "      <th>sibsp</th>\n",
       "      <th>parch</th>\n",
       "      <th>ticket</th>\n",
       "      <th>fare</th>\n",
       "      <th>cabin</th>\n",
       "      <th>embarked</th>\n",
       "      <th>boat</th>\n",
       "      <th>body</th>\n",
       "      <th>home.dest</th>\n",
       "    </tr>\n",
       "  </thead>\n",
       "  <tbody>\n",
       "    <tr>\n",
       "      <th>0</th>\n",
       "      <td>1</td>\n",
       "      <td>1</td>\n",
       "      <td>Allen, Miss. Elisabeth Walton</td>\n",
       "      <td>0</td>\n",
       "      <td>29.0000</td>\n",
       "      <td>0</td>\n",
       "      <td>0</td>\n",
       "      <td>24160</td>\n",
       "      <td>211.3375</td>\n",
       "      <td>B5</td>\n",
       "      <td>S</td>\n",
       "      <td>2</td>\n",
       "      <td>NaN</td>\n",
       "      <td>St Louis, MO</td>\n",
       "    </tr>\n",
       "    <tr>\n",
       "      <th>1</th>\n",
       "      <td>1</td>\n",
       "      <td>1</td>\n",
       "      <td>Allison, Master. Hudson Trevor</td>\n",
       "      <td>1</td>\n",
       "      <td>0.9167</td>\n",
       "      <td>1</td>\n",
       "      <td>2</td>\n",
       "      <td>113781</td>\n",
       "      <td>151.5500</td>\n",
       "      <td>C22 C26</td>\n",
       "      <td>S</td>\n",
       "      <td>11</td>\n",
       "      <td>NaN</td>\n",
       "      <td>Montreal, PQ / Chesterville, ON</td>\n",
       "    </tr>\n",
       "  </tbody>\n",
       "</table>\n",
       "</div>"
      ],
      "text/plain": [
       "   pclass  survived                            name  sex      age  sibsp  \\\n",
       "0       1         1   Allen, Miss. Elisabeth Walton    0  29.0000      0   \n",
       "1       1         1  Allison, Master. Hudson Trevor    1   0.9167      1   \n",
       "\n",
       "   parch  ticket      fare    cabin embarked boat  body  \\\n",
       "0      0   24160  211.3375       B5        S    2   NaN   \n",
       "1      2  113781  151.5500  C22 C26        S   11   NaN   \n",
       "\n",
       "                         home.dest  \n",
       "0                     St Louis, MO  \n",
       "1  Montreal, PQ / Chesterville, ON  "
      ]
     },
     "execution_count": 10,
     "metadata": {},
     "output_type": "execute_result"
    }
   ],
   "source": [
    "ds.head(2)"
   ]
  },
  {
   "cell_type": "code",
   "execution_count": 11,
   "metadata": {},
   "outputs": [
    {
     "data": {
      "text/plain": [
       "body         0.907563\n",
       "cabin        0.774637\n",
       "boat         0.628724\n",
       "home.dest    0.430863\n",
       "age          0.200917\n",
       "embarked     0.001528\n",
       "fare         0.000764\n",
       "ticket       0.000000\n",
       "parch        0.000000\n",
       "sibsp        0.000000\n",
       "sex          0.000000\n",
       "name         0.000000\n",
       "survived     0.000000\n",
       "pclass       0.000000\n",
       "dtype: float64"
      ]
     },
     "execution_count": 11,
     "metadata": {},
     "output_type": "execute_result"
    }
   ],
   "source": [
    "ds.isnull().mean().sort_values(ascending=False)"
   ]
  },
  {
   "cell_type": "code",
   "execution_count": 12,
   "metadata": {},
   "outputs": [],
   "source": [
    "mean_age=ds[\"age\"].mean()\n",
    "mean_fare=ds[\"fare\"].mean()"
   ]
  },
  {
   "cell_type": "code",
   "execution_count": 13,
   "metadata": {},
   "outputs": [
    {
     "data": {
      "text/plain": [
       "29.8811345124283"
      ]
     },
     "execution_count": 13,
     "metadata": {},
     "output_type": "execute_result"
    }
   ],
   "source": [
    "mean_age"
   ]
  },
  {
   "cell_type": "code",
   "execution_count": 14,
   "metadata": {},
   "outputs": [],
   "source": [
    "ds[\"age\"]=ds[\"age\"].fillna(mean_age)\n",
    "ds[\"fare\"]=ds[\"fare\"].fillna(mean_fare)"
   ]
  },
  {
   "cell_type": "code",
   "execution_count": 15,
   "metadata": {},
   "outputs": [
    {
     "data": {
      "text/html": [
       "<div>\n",
       "<style scoped>\n",
       "    .dataframe tbody tr th:only-of-type {\n",
       "        vertical-align: middle;\n",
       "    }\n",
       "\n",
       "    .dataframe tbody tr th {\n",
       "        vertical-align: top;\n",
       "    }\n",
       "\n",
       "    .dataframe thead th {\n",
       "        text-align: right;\n",
       "    }\n",
       "</style>\n",
       "<table border=\"1\" class=\"dataframe\">\n",
       "  <thead>\n",
       "    <tr style=\"text-align: right;\">\n",
       "      <th></th>\n",
       "      <th>pclass</th>\n",
       "      <th>survived</th>\n",
       "      <th>sex</th>\n",
       "      <th>age</th>\n",
       "      <th>sibsp</th>\n",
       "      <th>parch</th>\n",
       "      <th>fare</th>\n",
       "      <th>body</th>\n",
       "    </tr>\n",
       "  </thead>\n",
       "  <tbody>\n",
       "    <tr>\n",
       "      <th>count</th>\n",
       "      <td>1309.000000</td>\n",
       "      <td>1309.000000</td>\n",
       "      <td>1309.000000</td>\n",
       "      <td>1309.000000</td>\n",
       "      <td>1309.000000</td>\n",
       "      <td>1309.000000</td>\n",
       "      <td>1309.000000</td>\n",
       "      <td>121.000000</td>\n",
       "    </tr>\n",
       "    <tr>\n",
       "      <th>mean</th>\n",
       "      <td>2.294882</td>\n",
       "      <td>0.381971</td>\n",
       "      <td>0.644003</td>\n",
       "      <td>29.881135</td>\n",
       "      <td>0.498854</td>\n",
       "      <td>0.385027</td>\n",
       "      <td>33.295479</td>\n",
       "      <td>160.809917</td>\n",
       "    </tr>\n",
       "    <tr>\n",
       "      <th>std</th>\n",
       "      <td>0.837836</td>\n",
       "      <td>0.486055</td>\n",
       "      <td>0.478997</td>\n",
       "      <td>12.883199</td>\n",
       "      <td>1.041658</td>\n",
       "      <td>0.865560</td>\n",
       "      <td>51.738879</td>\n",
       "      <td>97.696922</td>\n",
       "    </tr>\n",
       "    <tr>\n",
       "      <th>min</th>\n",
       "      <td>1.000000</td>\n",
       "      <td>0.000000</td>\n",
       "      <td>0.000000</td>\n",
       "      <td>0.166700</td>\n",
       "      <td>0.000000</td>\n",
       "      <td>0.000000</td>\n",
       "      <td>0.000000</td>\n",
       "      <td>1.000000</td>\n",
       "    </tr>\n",
       "    <tr>\n",
       "      <th>25%</th>\n",
       "      <td>2.000000</td>\n",
       "      <td>0.000000</td>\n",
       "      <td>0.000000</td>\n",
       "      <td>22.000000</td>\n",
       "      <td>0.000000</td>\n",
       "      <td>0.000000</td>\n",
       "      <td>7.895800</td>\n",
       "      <td>72.000000</td>\n",
       "    </tr>\n",
       "    <tr>\n",
       "      <th>50%</th>\n",
       "      <td>3.000000</td>\n",
       "      <td>0.000000</td>\n",
       "      <td>1.000000</td>\n",
       "      <td>29.881135</td>\n",
       "      <td>0.000000</td>\n",
       "      <td>0.000000</td>\n",
       "      <td>14.454200</td>\n",
       "      <td>155.000000</td>\n",
       "    </tr>\n",
       "    <tr>\n",
       "      <th>75%</th>\n",
       "      <td>3.000000</td>\n",
       "      <td>1.000000</td>\n",
       "      <td>1.000000</td>\n",
       "      <td>35.000000</td>\n",
       "      <td>1.000000</td>\n",
       "      <td>0.000000</td>\n",
       "      <td>31.275000</td>\n",
       "      <td>256.000000</td>\n",
       "    </tr>\n",
       "    <tr>\n",
       "      <th>max</th>\n",
       "      <td>3.000000</td>\n",
       "      <td>1.000000</td>\n",
       "      <td>1.000000</td>\n",
       "      <td>80.000000</td>\n",
       "      <td>8.000000</td>\n",
       "      <td>9.000000</td>\n",
       "      <td>512.329200</td>\n",
       "      <td>328.000000</td>\n",
       "    </tr>\n",
       "  </tbody>\n",
       "</table>\n",
       "</div>"
      ],
      "text/plain": [
       "            pclass     survived          sex          age        sibsp  \\\n",
       "count  1309.000000  1309.000000  1309.000000  1309.000000  1309.000000   \n",
       "mean      2.294882     0.381971     0.644003    29.881135     0.498854   \n",
       "std       0.837836     0.486055     0.478997    12.883199     1.041658   \n",
       "min       1.000000     0.000000     0.000000     0.166700     0.000000   \n",
       "25%       2.000000     0.000000     0.000000    22.000000     0.000000   \n",
       "50%       3.000000     0.000000     1.000000    29.881135     0.000000   \n",
       "75%       3.000000     1.000000     1.000000    35.000000     1.000000   \n",
       "max       3.000000     1.000000     1.000000    80.000000     8.000000   \n",
       "\n",
       "             parch         fare        body  \n",
       "count  1309.000000  1309.000000  121.000000  \n",
       "mean      0.385027    33.295479  160.809917  \n",
       "std       0.865560    51.738879   97.696922  \n",
       "min       0.000000     0.000000    1.000000  \n",
       "25%       0.000000     7.895800   72.000000  \n",
       "50%       0.000000    14.454200  155.000000  \n",
       "75%       0.000000    31.275000  256.000000  \n",
       "max       9.000000   512.329200  328.000000  "
      ]
     },
     "execution_count": 15,
     "metadata": {},
     "output_type": "execute_result"
    }
   ],
   "source": [
    "ds.describe(include=\"number\")"
   ]
  },
  {
   "cell_type": "code",
   "execution_count": 16,
   "metadata": {},
   "outputs": [],
   "source": [
    "x=ds.loc[:,[\"pclass\",\"sex\",\"age\",\"sibsp\",\"parch\",\"fare\"]].values"
   ]
  },
  {
   "cell_type": "code",
   "execution_count": 17,
   "metadata": {},
   "outputs": [],
   "source": [
    "y=ds.loc[:,[\"survived\"]].values"
   ]
  },
  {
   "cell_type": "code",
   "execution_count": 18,
   "metadata": {},
   "outputs": [],
   "source": [
    "from sklearn.model_selection import train_test_split"
   ]
  },
  {
   "cell_type": "code",
   "execution_count": 19,
   "metadata": {},
   "outputs": [],
   "source": [
    "x_train,x_test,y_train,y_test=train_test_split(x,y,test_size=0.2,random_state=0)"
   ]
  },
  {
   "cell_type": "code",
   "execution_count": 20,
   "metadata": {},
   "outputs": [],
   "source": [
    "from sklearn.preprocessing import StandardScaler"
   ]
  },
  {
   "cell_type": "code",
   "execution_count": 21,
   "metadata": {},
   "outputs": [],
   "source": [
    "sc=StandardScaler()"
   ]
  },
  {
   "cell_type": "code",
   "execution_count": 22,
   "metadata": {},
   "outputs": [],
   "source": [
    "x_train=sc.fit_transform(x_train)\n",
    "x_test=sc.fit_transform(x_test)"
   ]
  },
  {
   "cell_type": "code",
   "execution_count": 29,
   "metadata": {},
   "outputs": [
    {
     "name": "stderr",
     "output_type": "stream",
     "text": [
      "/home/anonymous/.local/lib/python3.6/site-packages/ipykernel_launcher.py:10: UserWarning: Update your `Dense` call to the Keras 2 API: `Dense(activation=\"relu\", input_dim=6, units=11, kernel_initializer=\"uniform\")`\n",
      "  # Remove the CWD from sys.path while we load stuff.\n",
      "/home/anonymous/.local/lib/python3.6/site-packages/ipykernel_launcher.py:13: UserWarning: Update your `Dense` call to the Keras 2 API: `Dense(activation=\"relu\", units=11, kernel_initializer=\"uniform\")`\n",
      "  del sys.path[0]\n",
      "/home/anonymous/.local/lib/python3.6/site-packages/ipykernel_launcher.py:16: UserWarning: Update your `Dense` call to the Keras 2 API: `Dense(activation=\"sigmoid\", units=1, kernel_initializer=\"uniform\")`\n",
      "  app.launch_new_instance()\n",
      "/home/anonymous/.local/lib/python3.6/site-packages/ipykernel_launcher.py:22: UserWarning: The `nb_epoch` argument in `fit` has been renamed `epochs`.\n"
     ]
    },
    {
     "name": "stdout",
     "output_type": "stream",
     "text": [
      "Epoch 1/100\n",
      "1047/1047 [==============================] - 1s 1ms/step - loss: 0.6855 - acc: 0.6399\n",
      "Epoch 2/100\n",
      "1047/1047 [==============================] - 0s 194us/step - loss: 0.6040 - acc: 0.7784\n",
      "Epoch 3/100\n",
      "1047/1047 [==============================] - 0s 147us/step - loss: 0.4926 - acc: 0.7841\n",
      "Epoch 4/100\n",
      "1047/1047 [==============================] - 0s 144us/step - loss: 0.4639 - acc: 0.7870\n",
      "Epoch 5/100\n",
      "1047/1047 [==============================] - 0s 136us/step - loss: 0.4555 - acc: 0.7899\n",
      "Epoch 6/100\n",
      "1047/1047 [==============================] - 0s 131us/step - loss: 0.4509 - acc: 0.7947\n",
      "Epoch 7/100\n",
      "1047/1047 [==============================] - 0s 133us/step - loss: 0.4476 - acc: 0.7956\n",
      "Epoch 8/100\n",
      "1047/1047 [==============================] - 0s 140us/step - loss: 0.4452 - acc: 0.7975\n",
      "Epoch 9/100\n",
      "1047/1047 [==============================] - 0s 146us/step - loss: 0.4433 - acc: 0.7994\n",
      "Epoch 10/100\n",
      "1047/1047 [==============================] - 0s 144us/step - loss: 0.4414 - acc: 0.7994\n",
      "Epoch 11/100\n",
      "1047/1047 [==============================] - 0s 162us/step - loss: 0.4404 - acc: 0.8052\n",
      "Epoch 12/100\n",
      "1047/1047 [==============================] - 0s 155us/step - loss: 0.4400 - acc: 0.8023\n",
      "Epoch 13/100\n",
      "1047/1047 [==============================] - 0s 148us/step - loss: 0.4388 - acc: 0.8004\n",
      "Epoch 14/100\n",
      "1047/1047 [==============================] - 0s 144us/step - loss: 0.4380 - acc: 0.8061\n",
      "Epoch 15/100\n",
      "1047/1047 [==============================] - 0s 140us/step - loss: 0.4369 - acc: 0.8023\n",
      "Epoch 16/100\n",
      "1047/1047 [==============================] - 0s 144us/step - loss: 0.4373 - acc: 0.8032\n",
      "Epoch 17/100\n",
      "1047/1047 [==============================] - 0s 141us/step - loss: 0.4358 - acc: 0.8052\n",
      "Epoch 18/100\n",
      "1047/1047 [==============================] - 0s 160us/step - loss: 0.4350 - acc: 0.8052\n",
      "Epoch 19/100\n",
      "1047/1047 [==============================] - 0s 251us/step - loss: 0.4342 - acc: 0.8061\n",
      "Epoch 20/100\n",
      "1047/1047 [==============================] - 0s 145us/step - loss: 0.4342 - acc: 0.8080\n",
      "Epoch 21/100\n",
      "1047/1047 [==============================] - 0s 151us/step - loss: 0.4332 - acc: 0.8090\n",
      "Epoch 22/100\n",
      "1047/1047 [==============================] - 0s 159us/step - loss: 0.4325 - acc: 0.8099\n",
      "Epoch 23/100\n",
      "1047/1047 [==============================] - 0s 150us/step - loss: 0.4331 - acc: 0.8090\n",
      "Epoch 24/100\n",
      "1047/1047 [==============================] - 0s 135us/step - loss: 0.4315 - acc: 0.8090\n",
      "Epoch 25/100\n",
      "1047/1047 [==============================] - 0s 140us/step - loss: 0.4312 - acc: 0.8109\n",
      "Epoch 26/100\n",
      "1047/1047 [==============================] - 0s 141us/step - loss: 0.4300 - acc: 0.8099\n",
      "Epoch 27/100\n",
      "1047/1047 [==============================] - 0s 137us/step - loss: 0.4297 - acc: 0.8071\n",
      "Epoch 28/100\n",
      "1047/1047 [==============================] - 0s 227us/step - loss: 0.4303 - acc: 0.8090\n",
      "Epoch 29/100\n",
      "1047/1047 [==============================] - 0s 226us/step - loss: 0.4294 - acc: 0.8080\n",
      "Epoch 30/100\n",
      "1047/1047 [==============================] - 0s 142us/step - loss: 0.4283 - acc: 0.8109\n",
      "Epoch 31/100\n",
      "1047/1047 [==============================] - 0s 144us/step - loss: 0.4284 - acc: 0.8080\n",
      "Epoch 32/100\n",
      "1047/1047 [==============================] - 0s 146us/step - loss: 0.4277 - acc: 0.8118\n",
      "Epoch 33/100\n",
      "1047/1047 [==============================] - 0s 145us/step - loss: 0.4278 - acc: 0.8138\n",
      "Epoch 34/100\n",
      "1047/1047 [==============================] - 0s 138us/step - loss: 0.4277 - acc: 0.8099\n",
      "Epoch 35/100\n",
      "1047/1047 [==============================] - 0s 146us/step - loss: 0.4275 - acc: 0.8109\n",
      "Epoch 36/100\n",
      "1047/1047 [==============================] - 0s 143us/step - loss: 0.4273 - acc: 0.8052\n",
      "Epoch 37/100\n",
      "1047/1047 [==============================] - 0s 152us/step - loss: 0.4271 - acc: 0.8128\n",
      "Epoch 38/100\n",
      "1047/1047 [==============================] - 0s 142us/step - loss: 0.4261 - acc: 0.8118\n",
      "Epoch 39/100\n",
      "1047/1047 [==============================] - 0s 147us/step - loss: 0.4257 - acc: 0.8080\n",
      "Epoch 40/100\n",
      "1047/1047 [==============================] - 0s 146us/step - loss: 0.4265 - acc: 0.8166\n",
      "Epoch 41/100\n",
      "1047/1047 [==============================] - 0s 139us/step - loss: 0.4263 - acc: 0.8118\n",
      "Epoch 42/100\n",
      "1047/1047 [==============================] - 0s 146us/step - loss: 0.4254 - acc: 0.8099\n",
      "Epoch 43/100\n",
      "1047/1047 [==============================] - 0s 139us/step - loss: 0.4255 - acc: 0.8147\n",
      "Epoch 44/100\n",
      "1047/1047 [==============================] - 0s 149us/step - loss: 0.4250 - acc: 0.8099\n",
      "Epoch 45/100\n",
      "1047/1047 [==============================] - 0s 141us/step - loss: 0.4259 - acc: 0.8118\n",
      "Epoch 46/100\n",
      "1047/1047 [==============================] - 0s 137us/step - loss: 0.4254 - acc: 0.8099\n",
      "Epoch 47/100\n",
      "1047/1047 [==============================] - 0s 146us/step - loss: 0.4249 - acc: 0.8128\n",
      "Epoch 48/100\n",
      "1047/1047 [==============================] - 0s 148us/step - loss: 0.4254 - acc: 0.8118\n",
      "Epoch 49/100\n",
      "1047/1047 [==============================] - 0s 129us/step - loss: 0.4246 - acc: 0.8109\n",
      "Epoch 50/100\n",
      "1047/1047 [==============================] - 0s 137us/step - loss: 0.4242 - acc: 0.8128\n",
      "Epoch 51/100\n",
      "1047/1047 [==============================] - 0s 142us/step - loss: 0.4247 - acc: 0.8109\n",
      "Epoch 52/100\n",
      "1047/1047 [==============================] - 0s 152us/step - loss: 0.4250 - acc: 0.8118\n",
      "Epoch 53/100\n",
      "1047/1047 [==============================] - 0s 155us/step - loss: 0.4252 - acc: 0.8071\n",
      "Epoch 54/100\n",
      "1047/1047 [==============================] - 0s 143us/step - loss: 0.4243 - acc: 0.8090\n",
      "Epoch 55/100\n",
      "1047/1047 [==============================] - 0s 171us/step - loss: 0.4240 - acc: 0.8128\n",
      "Epoch 56/100\n",
      "1047/1047 [==============================] - 0s 154us/step - loss: 0.4236 - acc: 0.8109\n",
      "Epoch 57/100\n",
      "1047/1047 [==============================] - 0s 153us/step - loss: 0.4236 - acc: 0.8128\n",
      "Epoch 58/100\n",
      "1047/1047 [==============================] - 0s 153us/step - loss: 0.4235 - acc: 0.8099\n",
      "Epoch 59/100\n",
      "1047/1047 [==============================] - 0s 144us/step - loss: 0.4243 - acc: 0.8118\n",
      "Epoch 60/100\n",
      "1047/1047 [==============================] - 0s 177us/step - loss: 0.4229 - acc: 0.8118\n",
      "Epoch 61/100\n",
      "1047/1047 [==============================] - 0s 138us/step - loss: 0.4230 - acc: 0.8099\n",
      "Epoch 62/100\n",
      "1047/1047 [==============================] - 0s 142us/step - loss: 0.4233 - acc: 0.8109\n",
      "Epoch 63/100\n",
      "1047/1047 [==============================] - 0s 163us/step - loss: 0.4230 - acc: 0.8128\n",
      "Epoch 64/100\n",
      "1047/1047 [==============================] - 0s 182us/step - loss: 0.4229 - acc: 0.8118\n",
      "Epoch 65/100\n",
      "1047/1047 [==============================] - 0s 266us/step - loss: 0.4228 - acc: 0.8090\n",
      "Epoch 66/100\n",
      "1047/1047 [==============================] - 0s 243us/step - loss: 0.4229 - acc: 0.8118\n",
      "Epoch 67/100\n",
      "1047/1047 [==============================] - 0s 144us/step - loss: 0.4234 - acc: 0.8109\n",
      "Epoch 68/100\n",
      "1047/1047 [==============================] - 0s 191us/step - loss: 0.4219 - acc: 0.8166\n",
      "Epoch 69/100\n",
      "1047/1047 [==============================] - 0s 165us/step - loss: 0.4221 - acc: 0.8128\n",
      "Epoch 70/100\n",
      "1047/1047 [==============================] - 0s 148us/step - loss: 0.4222 - acc: 0.8138\n",
      "Epoch 71/100\n",
      "1047/1047 [==============================] - 0s 163us/step - loss: 0.4217 - acc: 0.8147\n",
      "Epoch 72/100\n",
      "1047/1047 [==============================] - 0s 169us/step - loss: 0.4226 - acc: 0.8090\n",
      "Epoch 73/100\n",
      "1047/1047 [==============================] - 0s 152us/step - loss: 0.4217 - acc: 0.8109\n",
      "Epoch 74/100\n",
      "1047/1047 [==============================] - 0s 163us/step - loss: 0.4220 - acc: 0.8118\n",
      "Epoch 75/100\n",
      "1047/1047 [==============================] - 0s 164us/step - loss: 0.4219 - acc: 0.8109\n",
      "Epoch 76/100\n",
      "1047/1047 [==============================] - 0s 164us/step - loss: 0.4230 - acc: 0.8071\n",
      "Epoch 77/100\n",
      "1047/1047 [==============================] - 0s 166us/step - loss: 0.4212 - acc: 0.8128\n",
      "Epoch 78/100\n",
      "1047/1047 [==============================] - 0s 158us/step - loss: 0.4213 - acc: 0.8157\n",
      "Epoch 79/100\n",
      "1047/1047 [==============================] - 0s 181us/step - loss: 0.4215 - acc: 0.8128\n",
      "Epoch 80/100\n",
      "1047/1047 [==============================] - 0s 154us/step - loss: 0.4218 - acc: 0.8080\n",
      "Epoch 81/100\n",
      "1047/1047 [==============================] - 0s 172us/step - loss: 0.4211 - acc: 0.8118\n",
      "Epoch 82/100\n"
     ]
    },
    {
     "name": "stdout",
     "output_type": "stream",
     "text": [
      "1047/1047 [==============================] - 0s 151us/step - loss: 0.4202 - acc: 0.8118\n",
      "Epoch 83/100\n",
      "1047/1047 [==============================] - 0s 133us/step - loss: 0.4217 - acc: 0.8157\n",
      "Epoch 84/100\n",
      "1047/1047 [==============================] - 0s 137us/step - loss: 0.4203 - acc: 0.8166\n",
      "Epoch 85/100\n",
      "1047/1047 [==============================] - 0s 132us/step - loss: 0.4211 - acc: 0.8109\n",
      "Epoch 86/100\n",
      "1047/1047 [==============================] - 0s 137us/step - loss: 0.4204 - acc: 0.8128\n",
      "Epoch 87/100\n",
      "1047/1047 [==============================] - 0s 138us/step - loss: 0.4202 - acc: 0.8118\n",
      "Epoch 88/100\n",
      "1047/1047 [==============================] - 0s 138us/step - loss: 0.4206 - acc: 0.8128\n",
      "Epoch 89/100\n",
      "1047/1047 [==============================] - 0s 138us/step - loss: 0.4208 - acc: 0.8128\n",
      "Epoch 90/100\n",
      "1047/1047 [==============================] - 0s 126us/step - loss: 0.4206 - acc: 0.8071\n",
      "Epoch 91/100\n",
      "1047/1047 [==============================] - 0s 136us/step - loss: 0.4202 - acc: 0.8109\n",
      "Epoch 92/100\n",
      "1047/1047 [==============================] - 0s 153us/step - loss: 0.4201 - acc: 0.8138\n",
      "Epoch 93/100\n",
      "1047/1047 [==============================] - 0s 143us/step - loss: 0.4201 - acc: 0.8147\n",
      "Epoch 94/100\n",
      "1047/1047 [==============================] - 0s 145us/step - loss: 0.4194 - acc: 0.8147\n",
      "Epoch 95/100\n",
      "1047/1047 [==============================] - 0s 142us/step - loss: 0.4200 - acc: 0.8138\n",
      "Epoch 96/100\n",
      "1047/1047 [==============================] - 0s 147us/step - loss: 0.4199 - acc: 0.8128\n",
      "Epoch 97/100\n",
      "1047/1047 [==============================] - 0s 132us/step - loss: 0.4199 - acc: 0.8157\n",
      "Epoch 98/100\n",
      "1047/1047 [==============================] - 0s 127us/step - loss: 0.4198 - acc: 0.8138\n",
      "Epoch 99/100\n",
      "1047/1047 [==============================] - 0s 138us/step - loss: 0.4188 - acc: 0.8109\n",
      "Epoch 100/100\n",
      "1047/1047 [==============================] - 0s 140us/step - loss: 0.4192 - acc: 0.8147\n"
     ]
    }
   ],
   "source": [
    "# Importing the Keras libraries and packages\n",
    "import keras\n",
    "from keras.models import Sequential\n",
    "from keras.layers import Dense\n",
    "\n",
    "# Initialising the ANN\n",
    "classifier = Sequential()\n",
    "\n",
    "# Adding the input layer and the first hidden layer\n",
    "classifier.add(Dense(output_dim = 11, init = 'uniform', activation = 'relu', input_dim = 6))\n",
    "\n",
    "# Adding the second hidden layer\n",
    "classifier.add(Dense(output_dim = 11, init = 'uniform', activation = 'relu'))\n",
    "\n",
    "# Adding the output layer\n",
    "classifier.add(Dense(output_dim = 1, init = 'uniform', activation = 'sigmoid'))\n",
    "\n",
    "# Compiling the ANN\n",
    "classifier.compile(optimizer = 'adam', loss = 'binary_crossentropy', metrics = ['accuracy'])\n",
    "\n",
    "# Fitting the ANN to the Training set\n",
    "classifier.fit(x_train, y_train, batch_size = 10, nb_epoch = 100)\n",
    "\n",
    "# Part 3 - Making the predictions and evaluating the model\n",
    "\n",
    "# Predicting the Test set results\n",
    "y_pred = classifier.predict(x_test)\n",
    "y_pred = (y_pred > 0.5)\n",
    "\n",
    "# Making the Confusion Matrix\n",
    "from sklearn.metrics import confusion_matrix\n",
    "cm = confusion_matrix(y_test, y_pred)"
   ]
  },
  {
   "cell_type": "code",
   "execution_count": 35,
   "metadata": {},
   "outputs": [
    {
     "data": {
      "text/plain": [
       "array([[151,  11],\n",
       "       [ 42,  58]])"
      ]
     },
     "execution_count": 35,
     "metadata": {},
     "output_type": "execute_result"
    }
   ],
   "source": [
    "cm"
   ]
  },
  {
   "cell_type": "code",
   "execution_count": 33,
   "metadata": {},
   "outputs": [
    {
     "data": {
      "text/plain": [
       "79.77099236641222"
      ]
     },
     "execution_count": 33,
     "metadata": {},
     "output_type": "execute_result"
    }
   ],
   "source": [
    "209/262*100"
   ]
  },
  {
   "cell_type": "code",
   "execution_count": null,
   "metadata": {},
   "outputs": [],
   "source": []
  },
  {
   "cell_type": "code",
   "execution_count": null,
   "metadata": {},
   "outputs": [],
   "source": []
  },
  {
   "cell_type": "code",
   "execution_count": null,
   "metadata": {},
   "outputs": [],
   "source": []
  },
  {
   "cell_type": "code",
   "execution_count": null,
   "metadata": {},
   "outputs": [],
   "source": []
  },
  {
   "cell_type": "code",
   "execution_count": null,
   "metadata": {},
   "outputs": [],
   "source": []
  },
  {
   "cell_type": "code",
   "execution_count": null,
   "metadata": {},
   "outputs": [],
   "source": []
  },
  {
   "cell_type": "code",
   "execution_count": null,
   "metadata": {},
   "outputs": [],
   "source": []
  },
  {
   "cell_type": "code",
   "execution_count": null,
   "metadata": {},
   "outputs": [],
   "source": []
  },
  {
   "cell_type": "code",
   "execution_count": null,
   "metadata": {},
   "outputs": [],
   "source": []
  },
  {
   "cell_type": "code",
   "execution_count": null,
   "metadata": {},
   "outputs": [],
   "source": []
  },
  {
   "cell_type": "code",
   "execution_count": null,
   "metadata": {},
   "outputs": [],
   "source": []
  },
  {
   "cell_type": "code",
   "execution_count": null,
   "metadata": {},
   "outputs": [],
   "source": []
  },
  {
   "cell_type": "code",
   "execution_count": null,
   "metadata": {},
   "outputs": [],
   "source": []
  },
  {
   "cell_type": "code",
   "execution_count": null,
   "metadata": {},
   "outputs": [],
   "source": []
  }
 ],
 "metadata": {
  "kernelspec": {
   "display_name": "Python 3",
   "language": "python",
   "name": "python3"
  },
  "language_info": {
   "codemirror_mode": {
    "name": "ipython",
    "version": 3
   },
   "file_extension": ".py",
   "mimetype": "text/x-python",
   "name": "python",
   "nbconvert_exporter": "python",
   "pygments_lexer": "ipython3",
   "version": "3.6.8"
  }
 },
 "nbformat": 4,
 "nbformat_minor": 2
}
